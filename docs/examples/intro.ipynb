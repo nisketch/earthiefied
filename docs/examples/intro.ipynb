{
 "cells": [
  {
   "cell_type": "code",
   "execution_count": 249,
   "metadata": {},
   "outputs": [
    {
     "name": "stdout",
     "output_type": "stream",
     "text": [
      "Hello World!\n"
     ]
    }
   ],
   "source": [
    "print('Hello World!')"
   ]
  },
  {
   "cell_type": "code",
   "execution_count": 250,
   "metadata": {},
   "outputs": [
    {
     "name": "stdout",
     "output_type": "stream",
     "text": [
      "Hello,  Nimrod Omanga !\n"
     ]
    }
   ],
   "source": [
    "first_name = \"Nimrod\"\n",
    "last_name = \"Omanga\"\n",
    "full_name = f\"{first_name.title()} {last_name.title()}\"\n",
    "message = f\"Hello,  {full_name.title()} !\"\n",
    "print(message)"
   ]
  },
  {
   "cell_type": "code",
   "execution_count": 251,
   "metadata": {},
   "outputs": [],
   "source": [
    "names = [\"Nimrod Omanga\", \"Fredrick Mokua\", \"Gloria Ogoro\", \"Gedion Ogoro\"]"
   ]
  },
  {
   "cell_type": "code",
   "execution_count": 252,
   "metadata": {},
   "outputs": [
    {
     "data": {
      "text/plain": [
       "'Ogoro'"
      ]
     },
     "execution_count": 252,
     "metadata": {},
     "output_type": "execute_result"
    }
   ],
   "source": [
    "names[3].split(\" \")[1]\n"
   ]
  },
  {
   "cell_type": "code",
   "execution_count": 253,
   "metadata": {},
   "outputs": [],
   "source": [
    "lastnames = []\n",
    "for name in names:\n",
    "   lastname = name.split(\" \")[1]\n",
    "   lastnames.append(lastname)"
   ]
  },
  {
   "cell_type": "code",
   "execution_count": 254,
   "metadata": {},
   "outputs": [
    {
     "data": {
      "text/plain": [
       "['Omanga', 'Mokua', 'Ogoro', 'Ogoro']"
      ]
     },
     "execution_count": 254,
     "metadata": {},
     "output_type": "execute_result"
    }
   ],
   "source": [
    "lastnames"
   ]
  },
  {
   "cell_type": "code",
   "execution_count": 255,
   "metadata": {},
   "outputs": [
    {
     "name": "stdout",
     "output_type": "stream",
     "text": [
      "hello, Gideon Miracle ebu enda uoshe viombo!\n"
     ]
    }
   ],
   "source": [
    "first_name = \"Gideon\"\n",
    "last_name = \"Miracle\"\n",
    "full_name = f\"{first_name.title()} {last_name.title()}\"\n",
    "message = f\"hello, {full_name.title()} ebu enda uoshe viombo!\"\n",
    "print(message)"
   ]
  },
  {
   "cell_type": "code",
   "execution_count": 256,
   "metadata": {},
   "outputs": [
    {
     "data": {
      "text/plain": [
       "4"
      ]
     },
     "execution_count": 256,
     "metadata": {},
     "output_type": "execute_result"
    }
   ],
   "source": [
    "len(lastnames)"
   ]
  },
  {
   "cell_type": "code",
   "execution_count": 257,
   "metadata": {},
   "outputs": [
    {
     "name": "stdout",
     "output_type": "stream",
     "text": [
      "Bmw\n",
      "Audi\n",
      "TOYOTA\n",
      "Mistubishi\n",
      "Mercedes\n",
      "Jaguar\n"
     ]
    }
   ],
   "source": [
    "cars = [\"bmw\", \"audi\", \"toyota\", \"mistubishi\", \"mercedes\", \"jaguar\"]\n",
    "   \n",
    "for car in cars :\n",
    "       if car == \"toyota\" :\n",
    "           print(car.upper())\n",
    "       else:\n",
    "           print(car.title())"
   ]
  },
  {
   "cell_type": "code",
   "execution_count": 258,
   "metadata": {},
   "outputs": [
    {
     "name": "stdout",
     "output_type": "stream",
     "text": [
      "Audi\n",
      "BMW\n",
      "Subaru\n",
      "Toyota\n"
     ]
    }
   ],
   "source": [
    "cars = [\"audi\", \"bmw\", \"subaru\", \"toyota\"]\n",
    "\n",
    "for car in cars:\n",
    "    if car == \"bmw\":\n",
    "        print(car.upper())\n",
    "    else:\n",
    "        print(car.title())"
   ]
  },
  {
   "cell_type": "code",
   "execution_count": 259,
   "metadata": {},
   "outputs": [
    {
     "name": "stdout",
     "output_type": "stream",
     "text": [
      "NIMROD OGORO\n",
      "sharon gachaja\n",
      "bree nyambu\n",
      "samuel kiiru\n",
      "joseph musyoka\n"
     ]
    }
   ],
   "source": [
    "names = [\"Nimrod ogoro\", \"sharon Gachaja\", \"bree nyambu\", \"samuel kiiru\", \"joseph musyoka\"]\n",
    "\n",
    "for name in names:\n",
    "     if name == \"Nimrod ogoro\":\n",
    "      print(name.upper())\n",
    "     else:\n",
    "        print(name.lower())"
   ]
  },
  {
   "cell_type": "code",
   "execution_count": 260,
   "metadata": {},
   "outputs": [
    {
     "name": "stdout",
     "output_type": "stream",
     "text": [
      "sitaki skuma!\n"
     ]
    }
   ],
   "source": [
    "requested_stew = \"nyama\"\n",
    "if requested_stew != \"skuma\":\n",
    "       print(\"sitaki skuma!\")\n",
    "   "
   ]
  },
  {
   "cell_type": "code",
   "execution_count": 261,
   "metadata": {},
   "outputs": [
    {
     "name": "stdout",
     "output_type": "stream",
     "text": [
      "Kamau, you can add your response!\n"
     ]
    }
   ],
   "source": [
    "banned_users = [\"jhon\", \"kimemeia\", \"njoro\", \"stevo\"]\n",
    "user = \"kamau\"\n",
    "    \n",
    "if user not in banned_users:\n",
    "        print(f\"{user.title()}, you can add your response!\")\n",
    "        "
   ]
  },
  {
   "cell_type": "code",
   "execution_count": 262,
   "metadata": {},
   "outputs": [
    {
     "name": "stdout",
     "output_type": "stream",
     "text": [
      "your admission fee is 30\n"
     ]
    }
   ],
   "source": [
    "age = 12\n",
    "if age <= 4:\n",
    "    price = 0\n",
    "elif age <=18:\n",
    "    price = 30\n",
    "elif age <= 30:\n",
    "    price = 100\n",
    "\n",
    "print(f\"your admission fee is {price}\")"
   ]
  },
  {
   "cell_type": "code",
   "execution_count": 263,
   "metadata": {},
   "outputs": [
    {
     "name": "stdout",
     "output_type": "stream",
     "text": [
      "adding beans,\n",
      "adding maize,\n",
      "adding avocado.\n",
      "\n",
      "your Githeri is ready\n"
     ]
    }
   ],
   "source": [
    "requested_meals = [\"beans\", \"maize\", \"avocado\"]\n",
    "\n",
    "if \"beans\" in requested_meals:\n",
    "    print(f\"adding beans,\")\n",
    "    \n",
    "if \"chips\" in requested_meals:\n",
    "    print(f\"adding chips\")\n",
    "    \n",
    "if \"maize\" in requested_meals:\n",
    "    print(f\"adding maize,\")\n",
    "if \"avocado\" in requested_meals:\n",
    "    print(f\"adding avocado.\")\n",
    "    \n",
    "print(\"\\nyour Githeri is ready\")"
   ]
  },
  {
   "cell_type": "code",
   "execution_count": 264,
   "metadata": {},
   "outputs": [
    {
     "name": "stdout",
     "output_type": "stream",
     "text": [
      "adding peparoni.\n",
      "sorry, we are out of paprika!\n",
      "adding extra cheese.\n"
     ]
    }
   ],
   "source": [
    "requested_toppings = [\"peparoni\", \"paprika\", \"extra cheese\"]\n",
    "for requested_topping in requested_toppings:\n",
    "    if requested_topping == \"paprika\":\n",
    "         print(\"sorry, we are out of paprika!\")\n",
    "    else:\n",
    "        print(f\"adding {requested_topping}.\")"
   ]
  },
  {
   "cell_type": "code",
   "execution_count": 265,
   "metadata": {},
   "outputs": [
    {
     "name": "stdout",
     "output_type": "stream",
     "text": [
      "adding mushrooms\n",
      "adding pineapple\n",
      "adding green peppers\n",
      "sorry we dont have french fries\n",
      "\n",
      "your pizza is ready\n"
     ]
    }
   ],
   "source": [
    "available_toppings = [\n",
    "    \"mushrooms\",\n",
    "    \"olives\",\n",
    "    \"green peppers\",\n",
    "    \"pepperoni\",\n",
    "    \"pineapple\",\n",
    "    \"extra cheese\",\n",
    "]\n",
    "\n",
    "requested_toppings = [\"mushrooms\", \"pineapple\",  \"green peppers\", \"french fries\"]\n",
    "\n",
    "for requested_topping in requested_toppings:\n",
    "    if requested_topping not in available_toppings:\n",
    "        print(f\"sorry we dont have {requested_topping}\")\n",
    "    else:\n",
    "        print(f\"adding {requested_topping}\")\n",
    "        \n",
    "print(\"\\nyour pizza is ready\")"
   ]
  },
  {
   "cell_type": "code",
   "execution_count": 266,
   "metadata": {},
   "outputs": [
    {
     "name": "stdout",
     "output_type": "stream",
     "text": [
      "original position:3\n",
      "new position:8\n"
     ]
    }
   ],
   "source": [
    "alien_0 = {\"Y_POSITION\": 0, \"x_position\": 3, \"speed\": \"medium\"}\n",
    "print(f\"original position:{alien_0['x_position']}\")\n",
    " \n",
    "if alien_0[\"speed\"] == 'slow':\n",
    "      x_increment = 4\n",
    "elif alien_0[\"speed\"] == 'medium':\n",
    "     x_increment = 5\n",
    "else:\n",
    "      x_increment = 6\n",
    "     \n",
    "alien_0[\"x_position\"] = alien_0[\"x_position\"] + x_increment\n",
    "print(f\"new position:{alien_0['x_position']}\")  "
   ]
  },
  {
   "cell_type": "code",
   "execution_count": 267,
   "metadata": {},
   "outputs": [
    {
     "name": "stdout",
     "output_type": "stream",
     "text": [
      "original position: 2\n",
      "new position: 10\n"
     ]
    }
   ],
   "source": [
    "cars_1 = {\"right\": 2, \"left\": 4, \"speed\": \"fast\"}\n",
    "print(f\"original position: {cars_1['right']}\")\n",
    "\n",
    "if cars_1[\"speed\"] == 'slow':\n",
    "    right_increment = 4\n",
    "elif cars_1[\"speed\"] == 'medium':\n",
    "    right_increment = 5\n",
    "else:\n",
    "    right_increment = 8\n",
    "\n",
    "cars_1[\"right\"] = cars_1[\"right\"] + right_increment\n",
    "print(f\"new position: {cars_1['right']}\")\n"
   ]
  },
  {
   "cell_type": "code",
   "execution_count": 268,
   "metadata": {},
   "outputs": [
    {
     "name": "stdout",
     "output_type": "stream",
     "text": [
      "stock available{'soap': 3, 'detergent': 5}\n"
     ]
    }
   ],
   "source": [
    "shop_3 = {\"soap\": 3, \"detergent\": 5, \"bread\":5}\n",
    "del shop_3[\"bread\"]\n",
    "print(f\"stock available{shop_3}\")"
   ]
  },
  {
   "cell_type": "code",
   "execution_count": 269,
   "metadata": {},
   "outputs": [
    {
     "name": "stdout",
     "output_type": "stream",
     "text": [
      "\n",
      "key: user_name\n",
      "\n",
      "value: femiuno\n",
      "\n",
      "key: first_name\n",
      "\n",
      "value: femi\n",
      "\n",
      "key: last_name\n",
      "\n",
      "value: one\n"
     ]
    }
   ],
   "source": [
    "user_1 = {\n",
    "    \"user_name\": \"femiuno\",\n",
    "    \"first_name\": \"femi\",\n",
    "    \"last_name\":  \"one\",\n",
    "} \n",
    "for key, value in user_1.items():\n",
    "    print(f\"\\nkey: {key}\")\n",
    "    print(f\"\\nvalue: {value}\")"
   ]
  },
  {
   "cell_type": "code",
   "execution_count": 270,
   "metadata": {},
   "outputs": [
    {
     "name": "stdout",
     "output_type": "stream",
     "text": [
      "Joseph Musyoka\n",
      "Joseph Musyoka\n",
      "Joseph Musyoka\n",
      "Joseph Musyoka\n",
      "\tJoseph Musyoka, i see you love raster!\n"
     ]
    }
   ],
   "source": [
    "favorite_languages = {\n",
    "    \"Kama\": \"python\",\n",
    "    \"joy\": \"c\",\n",
    "    \"durango\": \"html\",\n",
    "    \"mercy\":\"ruby\",\n",
    "}\n",
    "\n",
    "friends = [\"kama\", \"joy\"]\n",
    "for key in favorite_languages.keys():\n",
    "    print(name.title())\n",
    "    \n",
    "if name in friends:\n",
    " language = favorite_languages[name].title()\n",
    "print(f\"\\t{name.title()}, i see you love {language}!\")"
   ]
  },
  {
   "cell_type": "code",
   "execution_count": 271,
   "metadata": {},
   "outputs": [
    {
     "name": "stdout",
     "output_type": "stream",
     "text": [
      "Joseph Musyoka\n",
      "Joseph Musyoka\n",
      "Joseph Musyoka\n",
      "Joseph Musyoka\n",
      "\tJoseph Musyoka, i see you love raster!\n"
     ]
    }
   ],
   "source": [
    "favorite_languages = {\n",
    "    \"Kama\": \"python\",\n",
    "    \"joy\": \"c\",\n",
    "    \"durango\": \"html\",\n",
    "    \"mercy\":\"ruby\",\n",
    "}\n",
    "\n",
    "friends = [\"kama\", \"joy\", \"durango\", \"mercy\"]\n",
    "for key in favorite_languages.keys():\n",
    "    print(name.title())\n",
    "    \n",
    "if name in friends:\n",
    " language = favorite_languages[name].title()\n",
    "print(f\"\\t{name.title()}, i see you love {language}!\")"
   ]
  },
  {
   "cell_type": "code",
   "execution_count": 272,
   "metadata": {},
   "outputs": [
    {
     "name": "stdout",
     "output_type": "stream",
     "text": [
      "Nimrod\n",
      "Fredrick\n",
      "Gloria\n",
      "Gideon\n",
      "Annastacia\n",
      "\tAnnastacia, i see you love Html\n"
     ]
    }
   ],
   "source": [
    "favorite_language = {\n",
    "    \"Nimrod\": \"python\",\n",
    "    \"Fredrick\": \"css\",\n",
    "    \"Gloria\": \"ruby\",\n",
    "    \"Gideon\": \"java\",\n",
    "    \"Annastacia\": \"html\"\n",
    "}\n",
    "\n",
    "friends = [\"Nimrod\", \"Annastacia\"]\n",
    "  \n",
    "for name in favorite_language.keys():\n",
    "      print(name.title())\n",
    "      \n",
    "      if  name in friends:\n",
    "          language = favorite_language[name].title()\n",
    "print(f\"\\t{name.title()}, i see you love {language}\")"
   ]
  },
  {
   "cell_type": "code",
   "execution_count": 273,
   "metadata": {},
   "outputs": [
    {
     "name": "stdout",
     "output_type": "stream",
     "text": [
      "Nimrod\n",
      "Gideon\n",
      "Gloria\n",
      "\tGloria i see you love Ugali_Nyama\n"
     ]
    }
   ],
   "source": [
    "favorite_foods = {\n",
    "    \"Nimrod\": \"chapo_ndengu\",\n",
    "    \"Gideon\": \"chipo_kuku\",\n",
    "    \"Gloria\": \"ugali_nyama\"\n",
    "}\n",
    "\n",
    "for names in favorite_foods.keys():\n",
    "    print(names.title())\n",
    "    \n",
    "friends = [\"Gloria\", \"Gideon\", \"Nimrod\"]\n",
    "\n",
    "if names in friends:\n",
    "    foods = favorite_foods[names].title()\n",
    "print(f\"\\t{names.title()} i see you love {foods}\")"
   ]
  },
  {
   "cell_type": "markdown",
   "metadata": {},
   "source": []
  },
  {
   "cell_type": "code",
   "execution_count": 274,
   "metadata": {},
   "outputs": [
    {
     "name": "stdout",
     "output_type": "stream",
     "text": [
      "the following were mentioned\n",
      "Python\n",
      "Ruby\n",
      "Raster\n"
     ]
    }
   ],
   "source": [
    "favorite_customers = {\n",
    " \"juma\": \"python\",\n",
    " \"alisha\": \"ruby\",\n",
    " \"kamau\": \"raster\" ,  \n",
    "}\n",
    "print(\"the following were mentioned\")\n",
    "for language in favorite_customers.values():\n",
    "    print(language.title())\n",
    "   \n"
   ]
  },
  {
   "cell_type": "code",
   "execution_count": 275,
   "metadata": {},
   "outputs": [
    {
     "name": "stdout",
     "output_type": "stream",
     "text": [
      "this are the weekly activities and how they were attended\n",
      "\n",
      " Coding, was attended to the latter\n",
      "\n",
      " Maths, was attended to the latter\n",
      "\n",
      " Spiritual Check, was attended to the latter\n",
      "\n",
      "Pick Nick, was not attended to!\n",
      "\n",
      " Party, was attended to the latter\n"
     ]
    }
   ],
   "source": [
    "weekly_activities = {\n",
    "    \"monday\": \"coding\",\n",
    "    \"tuesday\": \"maths\",\n",
    "    \"wednesday\": \"spiritual check\",\n",
    "    \"thursday\": \"pick nick\",\n",
    "    \"friday\": \"party\",\n",
    "}\n",
    "attended_activities = [\"coding\", \"maths\", \"spiritual check\", \"party\"]\n",
    "print(\"this are the weekly activities and how they were attended\")\n",
    "\n",
    "for activities in weekly_activities.values():\n",
    "    if activities not in attended_activities:\n",
    "        print(f\"\\n{activities.title()}, was not attended to!\")\n",
    "    else:\n",
    "        print(f\"\\n {activities.title()}, was attended to the latter\")\n",
    "    \n",
    "\n",
    "\n",
    "    "
   ]
  },
  {
   "cell_type": "code",
   "execution_count": 282,
   "metadata": {},
   "outputs": [
    {
     "name": "stdout",
     "output_type": "stream",
     "text": [
      "This is the students information.\n",
      "Nimrod Ogoro, sorry your not eligible for 3 year! .\n",
      "Gloria Hope, Welcome to the 3 year.\n",
      "Annastacia Vyalu, Welcome to the 3 year.\n"
     ]
    }
   ],
   "source": [
    "students = {\n",
    "    \"Diploma\":{\n",
    "        \"Name\": \"Nimrod Ogoro\",\n",
    "        \"year\": 1,\n",
    "        \"fee\": \"not cleared\",\n",
    "    },\n",
    "     \"degree\":{\n",
    "        \"Name\": \"Gloria Hope\",\n",
    "        \"year\": 2,\n",
    "        \"fee\": \"cleared\",\n",
    "    },\n",
    "    \"masters\":{\n",
    "        \"Name\": \"Annastacia Vyalu\",\n",
    "        \"year\": 2,        \n",
    "        \"fee\": \"cleared\",\n",
    "    }\n",
    "}\n",
    "cleared_fee = [\"Gloria Hope\", \"Annastacia Vyalu\"]\n",
    "print(\"This is the students information.\")\n",
    "\n",
    "for program, student_info in students.items():\n",
    "  year_increment = 1\n",
    "if student_info ['Name'] in cleared_fee:\n",
    "        \n",
    "    phase = student_info['year'] + year_increment\n",
    "else:\n",
    "    phase =  student_info['year'] + year_increment\n",
    "\n",
    "for  program, student_info in students.items():\n",
    "    if student_info ['Name'] not in cleared_fee:\n",
    "        print(f\"{student_info['Name']}, sorry your not eligible for {phase} year! .\")\n",
    "    else:\n",
    "        print(f\"{student_info['Name']}, Welcome to the {phase} year.\")\n",
    "   \n",
    "\n",
    "    \n",
    "    \n",
    " "
   ]
  },
  {
   "cell_type": "code",
   "execution_count": 10,
   "metadata": {},
   "outputs": [
    {
     "name": "stdout",
     "output_type": "stream",
     "text": [
      "\n",
      " your tall enough for the ride.\n"
     ]
    }
   ],
   "source": [
    "height = input(\"how tall are you\")\n",
    "height = int(height)\n",
    "\n",
    "if height >= 37:\n",
    "    print(f\"\\n your tall enough for the ride.\")\n",
    "else:\n",
    "    print(f\"\\n sorry your not eligible for this ride.\")"
   ]
  },
  {
   "cell_type": "code",
   "execution_count": 11,
   "metadata": {},
   "outputs": [
    {
     "name": "stdout",
     "output_type": "stream",
     "text": [
      "\n",
      "sorry the number is  not even\n"
     ]
    }
   ],
   "source": [
    "number = input(\"input a number to see if its even\")\n",
    "number = int(number)\n",
    "\n",
    "if number %2 == 0:\n",
    "    print(f\"\\n the number is even\")\n",
    "else:\n",
    "    print(f\"\\nsorry the number is  not even\")"
   ]
  },
  {
   "cell_type": "code",
   "execution_count": 13,
   "metadata": {},
   "outputs": [
    {
     "name": "stdout",
     "output_type": "stream",
     "text": [
      "1\n",
      "2\n",
      "3\n",
      "4\n",
      "5\n",
      "6\n",
      "7\n",
      "8\n",
      "9\n",
      "10\n"
     ]
    }
   ],
   "source": [
    "current_number = 1\n",
    "\n",
    "while current_number <= 10:\n",
    "    print(current_number)\n",
    "    current_number += 1"
   ]
  },
  {
   "cell_type": "code",
   "execution_count": 8,
   "metadata": {},
   "outputs": [],
   "source": [
    "prompt = \"\\nTell me something, and I will repeat it back to you:\"\n",
    "prompt += \"\\nEnter 'quit' to end the program. \"\n",
    "\n",
    "message = \"\"\n",
    "while message != 'quit':\n",
    " message = input(prompt)\n",
    "if message != 'quit':\n",
    "    print(message)"
   ]
  },
  {
   "cell_type": "code",
   "execution_count": 11,
   "metadata": {},
   "outputs": [
    {
     "name": "stdout",
     "output_type": "stream",
     "text": [
      "\t my dream car is land rover.\n",
      "\t my cars engine is a v12. \n",
      "\t my dream cars color is grey \n"
     ]
    }
   ],
   "source": [
    "def describe_dream_car(car_type, engine_type, color,):\n",
    "    \"\"\"describe_dream_car\"\"\"\n",
    "    print(f\"\\t my dream car is {car_type}.\")\n",
    "    print(f\"\\t my cars engine is a {engine_type}. \")\n",
    "    print(f\"\\t my dream cars color is {color} \")\n",
    "    \n",
    "describe_dream_car(\"land rover\", \"v12\", \"grey\")"
   ]
  },
  {
   "cell_type": "code",
   "execution_count": 14,
   "metadata": {},
   "outputs": [
    {
     "name": "stdout",
     "output_type": "stream",
     "text": [
      "{'car_make': 'land rover', 'engine_make': 'v12', 'color_type': 'black'}\n"
     ]
    }
   ],
   "source": [
    "def dream_car (car_type, engine_type, color):\n",
    "    car = {\"car_make\": car_type, \"engine_make\": engine_type, \"color_type\": color }\n",
    "    return car\n",
    "vehicle = dream_car('land rover', 'v12', 'black')\n",
    "\n",
    "print(vehicle)"
   ]
  },
  {
   "cell_type": "code",
   "execution_count": 19,
   "metadata": {},
   "outputs": [
    {
     "name": "stdout",
     "output_type": "stream",
     "text": [
      "{'Maize': '10_BAGS', 'Beans': '50_BAGS', 'Carrots': '45_BAGS', 'potatoes': '30_BAGS'}\n"
     ]
    }
   ],
   "source": [
    "def food_supply(JKUAT, CUEA, CUK, KU):\n",
    "    supply = {\"Maize\": JKUAT, \"Beans\":CUEA, \"Carrots\":CUK, \"potatoes\": KU,}\n",
    "    return supply\n",
    "Tender = food_supply('10_BAGS', '50_BAGS', '45_BAGS', '30_BAGS')\n",
    " \n",
    "print(Tender)"
   ]
  },
  {
   "cell_type": "code",
   "execution_count": null,
   "metadata": {},
   "outputs": [],
   "source": []
  }
 ],
 "metadata": {
  "kernelspec": {
   "display_name": "geo",
   "language": "python",
   "name": "python3"
  },
  "language_info": {
   "codemirror_mode": {
    "name": "ipython",
    "version": 3
   },
   "file_extension": ".py",
   "mimetype": "text/x-python",
   "name": "python",
   "nbconvert_exporter": "python",
   "pygments_lexer": "ipython3",
   "version": "3.11.7"
  },
  "orig_nbformat": 4
 },
 "nbformat": 4,
 "nbformat_minor": 2
}
